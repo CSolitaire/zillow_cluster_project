{
 "cells": [
  {
   "cell_type": "markdown",
   "metadata": {},
   "source": [
    "#### Imports"
   ]
  },
  {
   "cell_type": "code",
   "execution_count": 1,
   "metadata": {},
   "outputs": [],
   "source": [
    "import wrangle\n",
    "import explore\n",
    "import pandas as pd\n",
    "import numpy as np\n",
    "import seaborn as sns\n",
    "import matplotlib.pyplot as plt\n",
    "\n",
    "pd.options.display.float_format = '{:20,.2f}'.format\n",
    "\n",
    "from math import sqrt\n",
    "from scipy import stats\n",
    "\n",
    "import warnings\n",
    "warnings.filterwarnings(\"ignore\")\n",
    "from sklearn.preprocessing import StandardScaler, QuantileTransformer, PowerTransformer, RobustScaler, MinMaxScaler\n",
    "from sklearn.model_selection import train_test_split\n",
    "from statsmodels.formula.api import ols\n",
    "from sklearn.metrics import mean_squared_error, r2_score, explained_variance_score\n",
    "from sklearn.feature_selection import f_regression, SelectKBest, RFE \n",
    "from sklearn.linear_model import LinearRegression, LassoLars, TweedieRegressor\n",
    "from sklearn.preprocessing import PolynomialFeatures\n",
    "from sklearn.cluster import KMeans"
   ]
  },
  {
   "cell_type": "markdown",
   "metadata": {},
   "source": [
    "#### Import LA Dataframe For Explore"
   ]
  },
  {
   "cell_type": "code",
   "execution_count": 2,
   "metadata": {},
   "outputs": [],
   "source": [
    "df = wrangle.get_zillow_data(cached=True)\n",
    "df_la, df_v, df_o = wrangle.clean_zillow_data(df)\n",
    "X_train, X_validate, X_test, X_train_explore, y_train, y_validate, y_test, X_train_scaled, X_validate_scaled, X_test_scaled = wrangle.split_scale(df_la)"
   ]
  },
  {
   "cell_type": "code",
   "execution_count": 3,
   "metadata": {},
   "outputs": [
    {
     "data": {
      "text/plain": [
       "((18756, 13), (8039, 13), (6699, 13), (18756, 1))"
      ]
     },
     "execution_count": 3,
     "metadata": {},
     "output_type": "execute_result"
    }
   ],
   "source": [
    "X_train.shape, X_validate.shape, X_test.shape, y_train.shape"
   ]
  },
  {
   "cell_type": "markdown",
   "metadata": {},
   "source": [
    "# Exploration:\n",
    "\n",
    "**Target = Logerror** \n",
    "\n",
    "\n",
    "-A number that represents a ratio that is derived from two prior distributions - the real price distribution of homes and then Zillow's existing model of that distribution"
   ]
  },
  {
   "cell_type": "code",
   "execution_count": 4,
   "metadata": {},
   "outputs": [
    {
     "data": {
      "text/html": [
       "<div>\n",
       "<style scoped>\n",
       "    .dataframe tbody tr th:only-of-type {\n",
       "        vertical-align: middle;\n",
       "    }\n",
       "\n",
       "    .dataframe tbody tr th {\n",
       "        vertical-align: top;\n",
       "    }\n",
       "\n",
       "    .dataframe thead th {\n",
       "        text-align: right;\n",
       "    }\n",
       "</style>\n",
       "<table border=\"1\" class=\"dataframe\">\n",
       "  <thead>\n",
       "    <tr style=\"text-align: right;\">\n",
       "      <th></th>\n",
       "      <th>logerror</th>\n",
       "      <th>bathroomcnt</th>\n",
       "      <th>calculatedfinishedsquarefeet</th>\n",
       "      <th>latitude</th>\n",
       "      <th>longitude</th>\n",
       "      <th>LA</th>\n",
       "      <th>Orange</th>\n",
       "      <th>Ventura</th>\n",
       "      <th>age</th>\n",
       "      <th>taxrate</th>\n",
       "      <th>acres</th>\n",
       "      <th>structure_dollar_per_sqft</th>\n",
       "      <th>land_dollar_per_sqft</th>\n",
       "      <th>bed_bath_ratio</th>\n",
       "    </tr>\n",
       "  </thead>\n",
       "  <tbody>\n",
       "    <tr>\n",
       "      <th>50028</th>\n",
       "      <td>0.03</td>\n",
       "      <td>3.00</td>\n",
       "      <td>2,313.00</td>\n",
       "      <td>34.16</td>\n",
       "      <td>-118.42</td>\n",
       "      <td>1</td>\n",
       "      <td>0</td>\n",
       "      <td>0</td>\n",
       "      <td>55.00</td>\n",
       "      <td>0.01</td>\n",
       "      <td>0.16</td>\n",
       "      <td>151.44</td>\n",
       "      <td>72.58</td>\n",
       "      <td>1.33</td>\n",
       "    </tr>\n",
       "    <tr>\n",
       "      <th>16721</th>\n",
       "      <td>-0.02</td>\n",
       "      <td>1.00</td>\n",
       "      <td>1,232.00</td>\n",
       "      <td>34.23</td>\n",
       "      <td>-118.25</td>\n",
       "      <td>1</td>\n",
       "      <td>0</td>\n",
       "      <td>0</td>\n",
       "      <td>91.00</td>\n",
       "      <td>0.01</td>\n",
       "      <td>0.17</td>\n",
       "      <td>18.40</td>\n",
       "      <td>13.69</td>\n",
       "      <td>3.00</td>\n",
       "    </tr>\n",
       "    <tr>\n",
       "      <th>30822</th>\n",
       "      <td>0.07</td>\n",
       "      <td>1.00</td>\n",
       "      <td>1,213.00</td>\n",
       "      <td>34.03</td>\n",
       "      <td>-118.46</td>\n",
       "      <td>1</td>\n",
       "      <td>0</td>\n",
       "      <td>0</td>\n",
       "      <td>66.00</td>\n",
       "      <td>0.01</td>\n",
       "      <td>0.13</td>\n",
       "      <td>91.47</td>\n",
       "      <td>141.76</td>\n",
       "      <td>3.00</td>\n",
       "    </tr>\n",
       "    <tr>\n",
       "      <th>4398</th>\n",
       "      <td>0.03</td>\n",
       "      <td>2.00</td>\n",
       "      <td>1,920.00</td>\n",
       "      <td>34.02</td>\n",
       "      <td>-118.32</td>\n",
       "      <td>1</td>\n",
       "      <td>0</td>\n",
       "      <td>0</td>\n",
       "      <td>95.00</td>\n",
       "      <td>0.01</td>\n",
       "      <td>0.13</td>\n",
       "      <td>62.68</td>\n",
       "      <td>41.50</td>\n",
       "      <td>1.50</td>\n",
       "    </tr>\n",
       "    <tr>\n",
       "      <th>46912</th>\n",
       "      <td>-0.01</td>\n",
       "      <td>2.00</td>\n",
       "      <td>1,268.00</td>\n",
       "      <td>33.91</td>\n",
       "      <td>-118.13</td>\n",
       "      <td>1</td>\n",
       "      <td>0</td>\n",
       "      <td>0</td>\n",
       "      <td>63.00</td>\n",
       "      <td>0.02</td>\n",
       "      <td>0.12</td>\n",
       "      <td>28.23</td>\n",
       "      <td>5.11</td>\n",
       "      <td>1.50</td>\n",
       "    </tr>\n",
       "  </tbody>\n",
       "</table>\n",
       "</div>"
      ],
      "text/plain": [
       "                  logerror          bathroomcnt  calculatedfinishedsquarefeet  \\\n",
       "50028                 0.03                 3.00                      2,313.00   \n",
       "16721                -0.02                 1.00                      1,232.00   \n",
       "30822                 0.07                 1.00                      1,213.00   \n",
       "4398                  0.03                 2.00                      1,920.00   \n",
       "46912                -0.01                 2.00                      1,268.00   \n",
       "\n",
       "                  latitude            longitude  LA  Orange  Ventura  \\\n",
       "50028                34.16              -118.42   1       0        0   \n",
       "16721                34.23              -118.25   1       0        0   \n",
       "30822                34.03              -118.46   1       0        0   \n",
       "4398                 34.02              -118.32   1       0        0   \n",
       "46912                33.91              -118.13   1       0        0   \n",
       "\n",
       "                       age              taxrate                acres  \\\n",
       "50028                55.00                 0.01                 0.16   \n",
       "16721                91.00                 0.01                 0.17   \n",
       "30822                66.00                 0.01                 0.13   \n",
       "4398                 95.00                 0.01                 0.13   \n",
       "46912                63.00                 0.02                 0.12   \n",
       "\n",
       "       structure_dollar_per_sqft  land_dollar_per_sqft       bed_bath_ratio  \n",
       "50028                     151.44                 72.58                 1.33  \n",
       "16721                      18.40                 13.69                 3.00  \n",
       "30822                      91.47                141.76                 3.00  \n",
       "4398                       62.68                 41.50                 1.50  \n",
       "46912                      28.23                  5.11                 1.50  "
      ]
     },
     "execution_count": 4,
     "metadata": {},
     "output_type": "execute_result"
    }
   ],
   "source": [
    "X_train_explore.head()"
   ]
  },
  {
   "cell_type": "markdown",
   "metadata": {},
   "source": [
    "#### Inital Thoughts:\n",
    "\n",
    "- From my inital investigation on regression project I know that room count has a large affect on taxrate and housing price.  I was unable to create a derived feature last go round so I want to test the affect of this feature now.     \n",
    "\n",
    "- I want to examine how usefull our created feature of bedbathratio is in predicting logerror in LA County.  I chose LA County because it has the largest number of datapoints.  I want to cluster on bedbathratio, bathroomcnt, and caluculaedfinishedsquarefeet.   "
   ]
  },
  {
   "cell_type": "markdown",
   "metadata": {},
   "source": [
    "## Cluster One: Room Clusters"
   ]
  },
  {
   "cell_type": "markdown",
   "metadata": {},
   "source": [
    "### Step 1. Elbow Plot"
   ]
  },
  {
   "cell_type": "code",
   "execution_count": 5,
   "metadata": {},
   "outputs": [
    {
     "name": "stdout",
     "output_type": "stream",
     "text": [
      "   k                  sse\n",
      "0  1               492.58\n",
      "1  2               245.24\n",
      "2  3               152.44\n",
      "3  4               107.41\n",
      "4  5                71.00\n",
      "5  6                59.45\n",
      "6  7                48.26\n",
      "7  8                38.27\n",
      "8  9                31.17\n"
     ]
    },
    {
     "data": {
      "image/png": "[encoded data removed]",
      "text/plain": [
       "<Figure size 432x288 with 1 Axes>"
      ]
     },
     "metadata": {
      "needs_background": "light"
     },
     "output_type": "display_data"
    }
   ],
   "source": [
    "cluster_vars = ['bathroomcnt', 'bed_bath_ratio', 'calculatedfinishedsquarefeet']\n",
    "explore.elbow_plot(X_train_scaled, cluster_vars)"
   ]
  },
  {
   "cell_type": "markdown",
   "metadata": {},
   "source": [
    "#### Takeaway:\n",
    "\n",
    "- Lets try 4 \n",
    "***"
   ]
  },
  {
   "cell_type": "markdown",
   "metadata": {},
   "source": [
    "### Step 2. Create Clusters"
   ]
  },
  {
   "cell_type": "markdown",
   "metadata": {},
   "source": [
    "#### 2a. Train Cluster"
   ]
  },
  {
   "cell_type": "code",
   "execution_count": 6,
   "metadata": {},
   "outputs": [],
   "source": [
    "train_clusters, kmeans = explore.run_kmeans(X_train, X_train_scaled, k=4, cluster_vars=cluster_vars, cluster_col_name = 'room_cluster')"
   ]
  },
  {
   "cell_type": "code",
   "execution_count": 7,
   "metadata": {},
   "outputs": [
    {
     "data": {
      "text/html": [
       "<div>\n",
       "<style scoped>\n",
       "    .dataframe tbody tr th:only-of-type {\n",
       "        vertical-align: middle;\n",
       "    }\n",
       "\n",
       "    .dataframe tbody tr th {\n",
       "        vertical-align: top;\n",
       "    }\n",
       "\n",
       "    .dataframe thead th {\n",
       "        text-align: right;\n",
       "    }\n",
       "</style>\n",
       "<table border=\"1\" class=\"dataframe\">\n",
       "  <thead>\n",
       "    <tr style=\"text-align: right;\">\n",
       "      <th></th>\n",
       "      <th>room_cluster</th>\n",
       "    </tr>\n",
       "  </thead>\n",
       "  <tbody>\n",
       "    <tr>\n",
       "      <th>50028</th>\n",
       "      <td>3</td>\n",
       "    </tr>\n",
       "    <tr>\n",
       "      <th>16721</th>\n",
       "      <td>1</td>\n",
       "    </tr>\n",
       "    <tr>\n",
       "      <th>30822</th>\n",
       "      <td>1</td>\n",
       "    </tr>\n",
       "    <tr>\n",
       "      <th>4398</th>\n",
       "      <td>3</td>\n",
       "    </tr>\n",
       "    <tr>\n",
       "      <th>46912</th>\n",
       "      <td>3</td>\n",
       "    </tr>\n",
       "    <tr>\n",
       "      <th>...</th>\n",
       "      <td>...</td>\n",
       "    </tr>\n",
       "    <tr>\n",
       "      <th>39988</th>\n",
       "      <td>3</td>\n",
       "    </tr>\n",
       "    <tr>\n",
       "      <th>19901</th>\n",
       "      <td>3</td>\n",
       "    </tr>\n",
       "    <tr>\n",
       "      <th>51300</th>\n",
       "      <td>3</td>\n",
       "    </tr>\n",
       "    <tr>\n",
       "      <th>50259</th>\n",
       "      <td>2</td>\n",
       "    </tr>\n",
       "    <tr>\n",
       "      <th>14869</th>\n",
       "      <td>3</td>\n",
       "    </tr>\n",
       "  </tbody>\n",
       "</table>\n",
       "<p>18756 rows × 1 columns</p>\n",
       "</div>"
      ],
      "text/plain": [
       "       room_cluster\n",
       "50028             3\n",
       "16721             1\n",
       "30822             1\n",
       "4398              3\n",
       "46912             3\n",
       "...             ...\n",
       "39988             3\n",
       "19901             3\n",
       "51300             3\n",
       "50259             2\n",
       "14869             3\n",
       "\n",
       "[18756 rows x 1 columns]"
      ]
     },
     "execution_count": 7,
     "metadata": {},
     "output_type": "execute_result"
    }
   ],
   "source": [
    "train_clusters"
   ]
  },
  {
   "cell_type": "code",
   "execution_count": 8,
   "metadata": {},
   "outputs": [
    {
     "data": {
      "text/plain": [
       "3    10685\n",
       "2     4561\n",
       "1     1957\n",
       "0     1553\n",
       "Name: room_cluster, dtype: int64"
      ]
     },
     "execution_count": 8,
     "metadata": {},
     "output_type": "execute_result"
    }
   ],
   "source": [
    "#Visualize distribution of clusters, they do not look even\n",
    "train_clusters.room_cluster.value_counts()"
   ]
  },
  {
   "cell_type": "markdown",
   "metadata": {},
   "source": [
    "#### 2b. Get Centroids"
   ]
  },
  {
   "cell_type": "code",
   "execution_count": 9,
   "metadata": {},
   "outputs": [],
   "source": [
    "centroid_col_names = ['centroid_' + i for i in cluster_vars]\n",
    "centroid_col_names\n",
    "\n",
    "centroids = pd.DataFrame(kmeans.cluster_centers_, \n",
    "             columns=centroid_col_names).reset_index().rename(columns={'index': 'room_cluster'})"
   ]
  },
  {
   "cell_type": "code",
   "execution_count": 10,
   "metadata": {},
   "outputs": [
    {
     "data": {
      "text/html": [
       "<div>\n",
       "<style scoped>\n",
       "    .dataframe tbody tr th:only-of-type {\n",
       "        vertical-align: middle;\n",
       "    }\n",
       "\n",
       "    .dataframe tbody tr th {\n",
       "        vertical-align: top;\n",
       "    }\n",
       "\n",
       "    .dataframe thead th {\n",
       "        text-align: right;\n",
       "    }\n",
       "</style>\n",
       "<table border=\"1\" class=\"dataframe\">\n",
       "  <thead>\n",
       "    <tr style=\"text-align: right;\">\n",
       "      <th></th>\n",
       "      <th>room_cluster</th>\n",
       "      <th>centroid_bathroomcnt</th>\n",
       "      <th>centroid_bed_bath_ratio</th>\n",
       "      <th>centroid_calculatedfinishedsquarefeet</th>\n",
       "    </tr>\n",
       "  </thead>\n",
       "  <tbody>\n",
       "    <tr>\n",
       "      <th>0</th>\n",
       "      <td>0</td>\n",
       "      <td>0.42</td>\n",
       "      <td>0.20</td>\n",
       "      <td>0.18</td>\n",
       "    </tr>\n",
       "    <tr>\n",
       "      <th>1</th>\n",
       "      <td>1</td>\n",
       "      <td>0.09</td>\n",
       "      <td>0.61</td>\n",
       "      <td>0.05</td>\n",
       "    </tr>\n",
       "    <tr>\n",
       "      <th>2</th>\n",
       "      <td>2</td>\n",
       "      <td>0.13</td>\n",
       "      <td>0.40</td>\n",
       "      <td>0.05</td>\n",
       "    </tr>\n",
       "    <tr>\n",
       "      <th>3</th>\n",
       "      <td>3</td>\n",
       "      <td>0.21</td>\n",
       "      <td>0.27</td>\n",
       "      <td>0.08</td>\n",
       "    </tr>\n",
       "  </tbody>\n",
       "</table>\n",
       "</div>"
      ],
      "text/plain": [
       "   room_cluster  centroid_bathroomcnt  centroid_bed_bath_ratio  \\\n",
       "0             0                  0.42                     0.20   \n",
       "1             1                  0.09                     0.61   \n",
       "2             2                  0.13                     0.40   \n",
       "3             3                  0.21                     0.27   \n",
       "\n",
       "   centroid_calculatedfinishedsquarefeet  \n",
       "0                                   0.18  \n",
       "1                                   0.05  \n",
       "2                                   0.05  \n",
       "3                                   0.08  "
      ]
     },
     "execution_count": 10,
     "metadata": {},
     "output_type": "execute_result"
    }
   ],
   "source": [
    "centroids"
   ]
  },
  {
   "cell_type": "markdown",
   "metadata": {},
   "source": [
    "#### 2c. Append cluster id onto X_train & X_train_scaled, then join with the centroids dataframe.\n"
   ]
  },
  {
   "cell_type": "code",
   "execution_count": 11,
   "metadata": {},
   "outputs": [],
   "source": [
    "# concatenate cluster id on LA_X_Train\n",
    "X_train = pd.concat([X_train, train_clusters], axis=1)"
   ]
  },
  {
   "cell_type": "code",
   "execution_count": 12,
   "metadata": {},
   "outputs": [
    {
     "data": {
      "text/html": [
       "<div>\n",
       "<style scoped>\n",
       "    .dataframe tbody tr th:only-of-type {\n",
       "        vertical-align: middle;\n",
       "    }\n",
       "\n",
       "    .dataframe tbody tr th {\n",
       "        vertical-align: top;\n",
       "    }\n",
       "\n",
       "    .dataframe thead th {\n",
       "        text-align: right;\n",
       "    }\n",
       "</style>\n",
       "<table border=\"1\" class=\"dataframe\">\n",
       "  <thead>\n",
       "    <tr style=\"text-align: right;\">\n",
       "      <th></th>\n",
       "      <th>bathroomcnt</th>\n",
       "      <th>calculatedfinishedsquarefeet</th>\n",
       "      <th>latitude</th>\n",
       "      <th>longitude</th>\n",
       "      <th>LA</th>\n",
       "      <th>Orange</th>\n",
       "      <th>Ventura</th>\n",
       "      <th>age</th>\n",
       "      <th>taxrate</th>\n",
       "      <th>acres</th>\n",
       "      <th>structure_dollar_per_sqft</th>\n",
       "      <th>land_dollar_per_sqft</th>\n",
       "      <th>bed_bath_ratio</th>\n",
       "      <th>room_cluster</th>\n",
       "    </tr>\n",
       "  </thead>\n",
       "  <tbody>\n",
       "    <tr>\n",
       "      <th>50028</th>\n",
       "      <td>3.00</td>\n",
       "      <td>2,313.00</td>\n",
       "      <td>34.16</td>\n",
       "      <td>-118.42</td>\n",
       "      <td>1</td>\n",
       "      <td>0</td>\n",
       "      <td>0</td>\n",
       "      <td>55.00</td>\n",
       "      <td>0.01</td>\n",
       "      <td>0.16</td>\n",
       "      <td>151.44</td>\n",
       "      <td>72.58</td>\n",
       "      <td>1.33</td>\n",
       "      <td>3</td>\n",
       "    </tr>\n",
       "    <tr>\n",
       "      <th>16721</th>\n",
       "      <td>1.00</td>\n",
       "      <td>1,232.00</td>\n",
       "      <td>34.23</td>\n",
       "      <td>-118.25</td>\n",
       "      <td>1</td>\n",
       "      <td>0</td>\n",
       "      <td>0</td>\n",
       "      <td>91.00</td>\n",
       "      <td>0.01</td>\n",
       "      <td>0.17</td>\n",
       "      <td>18.40</td>\n",
       "      <td>13.69</td>\n",
       "      <td>3.00</td>\n",
       "      <td>1</td>\n",
       "    </tr>\n",
       "    <tr>\n",
       "      <th>30822</th>\n",
       "      <td>1.00</td>\n",
       "      <td>1,213.00</td>\n",
       "      <td>34.03</td>\n",
       "      <td>-118.46</td>\n",
       "      <td>1</td>\n",
       "      <td>0</td>\n",
       "      <td>0</td>\n",
       "      <td>66.00</td>\n",
       "      <td>0.01</td>\n",
       "      <td>0.13</td>\n",
       "      <td>91.47</td>\n",
       "      <td>141.76</td>\n",
       "      <td>3.00</td>\n",
       "      <td>1</td>\n",
       "    </tr>\n",
       "    <tr>\n",
       "      <th>4398</th>\n",
       "      <td>2.00</td>\n",
       "      <td>1,920.00</td>\n",
       "      <td>34.02</td>\n",
       "      <td>-118.32</td>\n",
       "      <td>1</td>\n",
       "      <td>0</td>\n",
       "      <td>0</td>\n",
       "      <td>95.00</td>\n",
       "      <td>0.01</td>\n",
       "      <td>0.13</td>\n",
       "      <td>62.68</td>\n",
       "      <td>41.50</td>\n",
       "      <td>1.50</td>\n",
       "      <td>3</td>\n",
       "    </tr>\n",
       "    <tr>\n",
       "      <th>46912</th>\n",
       "      <td>2.00</td>\n",
       "      <td>1,268.00</td>\n",
       "      <td>33.91</td>\n",
       "      <td>-118.13</td>\n",
       "      <td>1</td>\n",
       "      <td>0</td>\n",
       "      <td>0</td>\n",
       "      <td>63.00</td>\n",
       "      <td>0.02</td>\n",
       "      <td>0.12</td>\n",
       "      <td>28.23</td>\n",
       "      <td>5.11</td>\n",
       "      <td>1.50</td>\n",
       "      <td>3</td>\n",
       "    </tr>\n",
       "  </tbody>\n",
       "</table>\n",
       "</div>"
      ],
      "text/plain": [
       "               bathroomcnt  calculatedfinishedsquarefeet             latitude  \\\n",
       "50028                 3.00                      2,313.00                34.16   \n",
       "16721                 1.00                      1,232.00                34.23   \n",
       "30822                 1.00                      1,213.00                34.03   \n",
       "4398                  2.00                      1,920.00                34.02   \n",
       "46912                 2.00                      1,268.00                33.91   \n",
       "\n",
       "                 longitude  LA  Orange  Ventura                  age  \\\n",
       "50028              -118.42   1       0        0                55.00   \n",
       "16721              -118.25   1       0        0                91.00   \n",
       "30822              -118.46   1       0        0                66.00   \n",
       "4398               -118.32   1       0        0                95.00   \n",
       "46912              -118.13   1       0        0                63.00   \n",
       "\n",
       "                   taxrate                acres  structure_dollar_per_sqft  \\\n",
       "50028                 0.01                 0.16                     151.44   \n",
       "16721                 0.01                 0.17                      18.40   \n",
       "30822                 0.01                 0.13                      91.47   \n",
       "4398                  0.01                 0.13                      62.68   \n",
       "46912                 0.02                 0.12                      28.23   \n",
       "\n",
       "       land_dollar_per_sqft       bed_bath_ratio  room_cluster  \n",
       "50028                 72.58                 1.33             3  \n",
       "16721                 13.69                 3.00             1  \n",
       "30822                141.76                 3.00             1  \n",
       "4398                  41.50                 1.50             3  \n",
       "46912                  5.11                 1.50             3  "
      ]
     },
     "execution_count": 12,
     "metadata": {},
     "output_type": "execute_result"
    }
   ],
   "source": [
    "X_train.head()"
   ]
  },
  {
   "cell_type": "code",
   "execution_count": 13,
   "metadata": {},
   "outputs": [],
   "source": [
    "# join on clusterid to get centroids\n",
    "X_train = X_train.merge(centroids, how='left', on='room_cluster').set_index(X_train.index)"
   ]
  },
  {
   "cell_type": "code",
   "execution_count": 14,
   "metadata": {},
   "outputs": [
    {
     "data": {
      "text/html": [
       "<div>\n",
       "<style scoped>\n",
       "    .dataframe tbody tr th:only-of-type {\n",
       "        vertical-align: middle;\n",
       "    }\n",
       "\n",
       "    .dataframe tbody tr th {\n",
       "        vertical-align: top;\n",
       "    }\n",
       "\n",
       "    .dataframe thead th {\n",
       "        text-align: right;\n",
       "    }\n",
       "</style>\n",
       "<table border=\"1\" class=\"dataframe\">\n",
       "  <thead>\n",
       "    <tr style=\"text-align: right;\">\n",
       "      <th></th>\n",
       "      <th>bathroomcnt</th>\n",
       "      <th>calculatedfinishedsquarefeet</th>\n",
       "      <th>latitude</th>\n",
       "      <th>longitude</th>\n",
       "      <th>LA</th>\n",
       "      <th>Orange</th>\n",
       "      <th>Ventura</th>\n",
       "      <th>age</th>\n",
       "      <th>taxrate</th>\n",
       "      <th>acres</th>\n",
       "      <th>structure_dollar_per_sqft</th>\n",
       "      <th>land_dollar_per_sqft</th>\n",
       "      <th>bed_bath_ratio</th>\n",
       "      <th>room_cluster</th>\n",
       "      <th>centroid_bathroomcnt</th>\n",
       "      <th>centroid_bed_bath_ratio</th>\n",
       "      <th>centroid_calculatedfinishedsquarefeet</th>\n",
       "    </tr>\n",
       "  </thead>\n",
       "  <tbody>\n",
       "    <tr>\n",
       "      <th>50028</th>\n",
       "      <td>3.00</td>\n",
       "      <td>2,313.00</td>\n",
       "      <td>34.16</td>\n",
       "      <td>-118.42</td>\n",
       "      <td>1</td>\n",
       "      <td>0</td>\n",
       "      <td>0</td>\n",
       "      <td>55.00</td>\n",
       "      <td>0.01</td>\n",
       "      <td>0.16</td>\n",
       "      <td>151.44</td>\n",
       "      <td>72.58</td>\n",
       "      <td>1.33</td>\n",
       "      <td>3</td>\n",
       "      <td>0.21</td>\n",
       "      <td>0.27</td>\n",
       "      <td>0.08</td>\n",
       "    </tr>\n",
       "    <tr>\n",
       "      <th>16721</th>\n",
       "      <td>1.00</td>\n",
       "      <td>1,232.00</td>\n",
       "      <td>34.23</td>\n",
       "      <td>-118.25</td>\n",
       "      <td>1</td>\n",
       "      <td>0</td>\n",
       "      <td>0</td>\n",
       "      <td>91.00</td>\n",
       "      <td>0.01</td>\n",
       "      <td>0.17</td>\n",
       "      <td>18.40</td>\n",
       "      <td>13.69</td>\n",
       "      <td>3.00</td>\n",
       "      <td>1</td>\n",
       "      <td>0.09</td>\n",
       "      <td>0.61</td>\n",
       "      <td>0.05</td>\n",
       "    </tr>\n",
       "    <tr>\n",
       "      <th>30822</th>\n",
       "      <td>1.00</td>\n",
       "      <td>1,213.00</td>\n",
       "      <td>34.03</td>\n",
       "      <td>-118.46</td>\n",
       "      <td>1</td>\n",
       "      <td>0</td>\n",
       "      <td>0</td>\n",
       "      <td>66.00</td>\n",
       "      <td>0.01</td>\n",
       "      <td>0.13</td>\n",
       "      <td>91.47</td>\n",
       "      <td>141.76</td>\n",
       "      <td>3.00</td>\n",
       "      <td>1</td>\n",
       "      <td>0.09</td>\n",
       "      <td>0.61</td>\n",
       "      <td>0.05</td>\n",
       "    </tr>\n",
       "    <tr>\n",
       "      <th>4398</th>\n",
       "      <td>2.00</td>\n",
       "      <td>1,920.00</td>\n",
       "      <td>34.02</td>\n",
       "      <td>-118.32</td>\n",
       "      <td>1</td>\n",
       "      <td>0</td>\n",
       "      <td>0</td>\n",
       "      <td>95.00</td>\n",
       "      <td>0.01</td>\n",
       "      <td>0.13</td>\n",
       "      <td>62.68</td>\n",
       "      <td>41.50</td>\n",
       "      <td>1.50</td>\n",
       "      <td>3</td>\n",
       "      <td>0.21</td>\n",
       "      <td>0.27</td>\n",
       "      <td>0.08</td>\n",
       "    </tr>\n",
       "    <tr>\n",
       "      <th>46912</th>\n",
       "      <td>2.00</td>\n",
       "      <td>1,268.00</td>\n",
       "      <td>33.91</td>\n",
       "      <td>-118.13</td>\n",
       "      <td>1</td>\n",
       "      <td>0</td>\n",
       "      <td>0</td>\n",
       "      <td>63.00</td>\n",
       "      <td>0.02</td>\n",
       "      <td>0.12</td>\n",
       "      <td>28.23</td>\n",
       "      <td>5.11</td>\n",
       "      <td>1.50</td>\n",
       "      <td>3</td>\n",
       "      <td>0.21</td>\n",
       "      <td>0.27</td>\n",
       "      <td>0.08</td>\n",
       "    </tr>\n",
       "  </tbody>\n",
       "</table>\n",
       "</div>"
      ],
      "text/plain": [
       "               bathroomcnt  calculatedfinishedsquarefeet             latitude  \\\n",
       "50028                 3.00                      2,313.00                34.16   \n",
       "16721                 1.00                      1,232.00                34.23   \n",
       "30822                 1.00                      1,213.00                34.03   \n",
       "4398                  2.00                      1,920.00                34.02   \n",
       "46912                 2.00                      1,268.00                33.91   \n",
       "\n",
       "                 longitude  LA  Orange  Ventura                  age  \\\n",
       "50028              -118.42   1       0        0                55.00   \n",
       "16721              -118.25   1       0        0                91.00   \n",
       "30822              -118.46   1       0        0                66.00   \n",
       "4398               -118.32   1       0        0                95.00   \n",
       "46912              -118.13   1       0        0                63.00   \n",
       "\n",
       "                   taxrate                acres  structure_dollar_per_sqft  \\\n",
       "50028                 0.01                 0.16                     151.44   \n",
       "16721                 0.01                 0.17                      18.40   \n",
       "30822                 0.01                 0.13                      91.47   \n",
       "4398                  0.01                 0.13                      62.68   \n",
       "46912                 0.02                 0.12                      28.23   \n",
       "\n",
       "       land_dollar_per_sqft       bed_bath_ratio  room_cluster  \\\n",
       "50028                 72.58                 1.33             3   \n",
       "16721                 13.69                 3.00             1   \n",
       "30822                141.76                 3.00             1   \n",
       "4398                  41.50                 1.50             3   \n",
       "46912                  5.11                 1.50             3   \n",
       "\n",
       "       centroid_bathroomcnt  centroid_bed_bath_ratio  \\\n",
       "50028                  0.21                     0.27   \n",
       "16721                  0.09                     0.61   \n",
       "30822                  0.09                     0.61   \n",
       "4398                   0.21                     0.27   \n",
       "46912                  0.21                     0.27   \n",
       "\n",
       "       centroid_calculatedfinishedsquarefeet  \n",
       "50028                                   0.08  \n",
       "16721                                   0.05  \n",
       "30822                                   0.05  \n",
       "4398                                    0.08  \n",
       "46912                                   0.08  "
      ]
     },
     "execution_count": 14,
     "metadata": {},
     "output_type": "execute_result"
    }
   ],
   "source": [
    "X_train.head()"
   ]
  },
  {
   "cell_type": "markdown",
   "metadata": {},
   "source": [
    "#### 2d. Visualize room_clusters and centroids "
   ]
  },
  {
   "cell_type": "code",
   "execution_count": 15,
   "metadata": {},
   "outputs": [
    {
     "data": {
      "image/png": "[encoded data removed]",
      "text/plain": [
       "<Figure size 432x288 with 1 Axes>"
      ]
     },
     "metadata": {
      "needs_background": "light"
     },
     "output_type": "display_data"
    }
   ],
   "source": [
    "# Visualize \n",
    "plt.scatter(X_train.bed_bath_ratio, y_train.logerror, c=X_train.room_cluster)\n",
    "plt.show()"
   ]
  },
  {
   "cell_type": "code",
   "execution_count": 16,
   "metadata": {},
   "outputs": [
    {
     "data": {
      "image/png": "[encoded data removed]",
      "text/plain": [
       "<Figure size 432x288 with 1 Axes>"
      ]
     },
     "metadata": {
      "needs_background": "light"
     },
     "output_type": "display_data"
    }
   ],
   "source": [
    "sns.boxplot(X_train.room_cluster, y_train.logerror)\n",
    "plt.ylim(-.05,.05)\n",
    "plt.show()"
   ]
  },
  {
   "cell_type": "code",
   "execution_count": 37,
   "metadata": {},
   "outputs": [
    {
     "data": {
      "image/png": "[encoded data removed]",
      "text/plain": [
       "<Figure size 432x288 with 1 Axes>"
      ]
     },
     "metadata": {
      "needs_background": "light"
     },
     "output_type": "display_data"
    }
   ],
   "source": [
    "plt.scatter(X_train.calculatedfinishedsquarefeet, X_train.bed_bath_ratio, c=X_train.room_cluster)\n",
    "plt.show()"
   ]
  },
  {
   "cell_type": "markdown",
   "metadata": {},
   "source": [
    "## Cluster Two: Size Clusters\n",
    "\n",
    "- calculatedfinishedsquarefeet\n",
    "- acres\n",
    "- structure_dollar_per_sqft\n",
    "- land_dollar_per_sqft"
   ]
  },
  {
   "cell_type": "markdown",
   "metadata": {},
   "source": [
    "### Step 1. Elbow Plot"
   ]
  },
  {
   "cell_type": "code",
   "execution_count": 18,
   "metadata": {},
   "outputs": [
    {
     "name": "stdout",
     "output_type": "stream",
     "text": [
      "   k                  sse\n",
      "0  1               108.02\n",
      "1  2                76.69\n",
      "2  3                62.47\n",
      "3  4                53.76\n",
      "4  5                47.30\n",
      "5  6                41.53\n",
      "6  7                36.89\n",
      "7  8                32.90\n",
      "8  9                29.96\n"
     ]
    },
    {
     "data": {
      "image/png": "[encoded data removed]",
      "text/plain": [
       "<Figure size 432x288 with 1 Axes>"
      ]
     },
     "metadata": {
      "needs_background": "light"
     },
     "output_type": "display_data"
    }
   ],
   "source": [
    "cluster_vars = ['calculatedfinishedsquarefeet', 'acres', 'structure_dollar_per_sqft', 'land_dollar_per_sqft']\n",
    "explore.elbow_plot(X_train_scaled, cluster_vars)"
   ]
  },
  {
   "cell_type": "markdown",
   "metadata": {},
   "source": [
    "**Takeaway:**\n",
    "\n",
    "**K of 3 looks good here**\n",
    "\n",
    "***"
   ]
  },
  {
   "cell_type": "markdown",
   "metadata": {},
   "source": [
    "### Step 2. Create Clusters"
   ]
  },
  {
   "cell_type": "markdown",
   "metadata": {},
   "source": [
    "#### 2a. Train Cluster"
   ]
  },
  {
   "cell_type": "code",
   "execution_count": 19,
   "metadata": {},
   "outputs": [],
   "source": [
    "train_clusters, kmeans = explore.run_kmeans(X_train, X_train_scaled, k=3, cluster_vars=cluster_vars, cluster_col_name = 'size_cluster')"
   ]
  },
  {
   "cell_type": "code",
   "execution_count": 20,
   "metadata": {},
   "outputs": [
    {
     "data": {
      "text/html": [
       "<div>\n",
       "<style scoped>\n",
       "    .dataframe tbody tr th:only-of-type {\n",
       "        vertical-align: middle;\n",
       "    }\n",
       "\n",
       "    .dataframe tbody tr th {\n",
       "        vertical-align: top;\n",
       "    }\n",
       "\n",
       "    .dataframe thead th {\n",
       "        text-align: right;\n",
       "    }\n",
       "</style>\n",
       "<table border=\"1\" class=\"dataframe\">\n",
       "  <thead>\n",
       "    <tr style=\"text-align: right;\">\n",
       "      <th></th>\n",
       "      <th>size_cluster</th>\n",
       "    </tr>\n",
       "  </thead>\n",
       "  <tbody>\n",
       "    <tr>\n",
       "      <th>50028</th>\n",
       "      <td>1</td>\n",
       "    </tr>\n",
       "    <tr>\n",
       "      <th>16721</th>\n",
       "      <td>0</td>\n",
       "    </tr>\n",
       "    <tr>\n",
       "      <th>30822</th>\n",
       "      <td>0</td>\n",
       "    </tr>\n",
       "    <tr>\n",
       "      <th>4398</th>\n",
       "      <td>0</td>\n",
       "    </tr>\n",
       "    <tr>\n",
       "      <th>46912</th>\n",
       "      <td>0</td>\n",
       "    </tr>\n",
       "    <tr>\n",
       "      <th>...</th>\n",
       "      <td>...</td>\n",
       "    </tr>\n",
       "    <tr>\n",
       "      <th>39988</th>\n",
       "      <td>1</td>\n",
       "    </tr>\n",
       "    <tr>\n",
       "      <th>19901</th>\n",
       "      <td>0</td>\n",
       "    </tr>\n",
       "    <tr>\n",
       "      <th>51300</th>\n",
       "      <td>0</td>\n",
       "    </tr>\n",
       "    <tr>\n",
       "      <th>50259</th>\n",
       "      <td>0</td>\n",
       "    </tr>\n",
       "    <tr>\n",
       "      <th>14869</th>\n",
       "      <td>0</td>\n",
       "    </tr>\n",
       "  </tbody>\n",
       "</table>\n",
       "<p>18756 rows × 1 columns</p>\n",
       "</div>"
      ],
      "text/plain": [
       "       size_cluster\n",
       "50028             1\n",
       "16721             0\n",
       "30822             0\n",
       "4398              0\n",
       "46912             0\n",
       "...             ...\n",
       "39988             1\n",
       "19901             0\n",
       "51300             0\n",
       "50259             0\n",
       "14869             0\n",
       "\n",
       "[18756 rows x 1 columns]"
      ]
     },
     "execution_count": 20,
     "metadata": {},
     "output_type": "execute_result"
    }
   ],
   "source": [
    "train_clusters"
   ]
  },
  {
   "cell_type": "code",
   "execution_count": 21,
   "metadata": {},
   "outputs": [
    {
     "data": {
      "text/plain": [
       "0    14640\n",
       "1     3619\n",
       "2      497\n",
       "Name: size_cluster, dtype: int64"
      ]
     },
     "execution_count": 21,
     "metadata": {},
     "output_type": "execute_result"
    }
   ],
   "source": [
    "#Visualize distribution of clusters, they do not look even\n",
    "train_clusters.size_cluster.value_counts()"
   ]
  },
  {
   "cell_type": "markdown",
   "metadata": {},
   "source": [
    "#### 2b. Get Centroids"
   ]
  },
  {
   "cell_type": "code",
   "execution_count": 22,
   "metadata": {},
   "outputs": [],
   "source": [
    "centroid_col_names = ['centroid_' + i for i in cluster_vars]\n",
    "centroid_col_names\n",
    "\n",
    "centroids = pd.DataFrame(kmeans.cluster_centers_, \n",
    "             columns=centroid_col_names).reset_index().rename(columns={'index': 'size_cluster'})"
   ]
  },
  {
   "cell_type": "code",
   "execution_count": 23,
   "metadata": {},
   "outputs": [
    {
     "data": {
      "text/html": [
       "<div>\n",
       "<style scoped>\n",
       "    .dataframe tbody tr th:only-of-type {\n",
       "        vertical-align: middle;\n",
       "    }\n",
       "\n",
       "    .dataframe tbody tr th {\n",
       "        vertical-align: top;\n",
       "    }\n",
       "\n",
       "    .dataframe thead th {\n",
       "        text-align: right;\n",
       "    }\n",
       "</style>\n",
       "<table border=\"1\" class=\"dataframe\">\n",
       "  <thead>\n",
       "    <tr style=\"text-align: right;\">\n",
       "      <th></th>\n",
       "      <th>size_cluster</th>\n",
       "      <th>centroid_calculatedfinishedsquarefeet</th>\n",
       "      <th>centroid_acres</th>\n",
       "      <th>centroid_structure_dollar_per_sqft</th>\n",
       "      <th>centroid_land_dollar_per_sqft</th>\n",
       "    </tr>\n",
       "  </thead>\n",
       "  <tbody>\n",
       "    <tr>\n",
       "      <th>0</th>\n",
       "      <td>0</td>\n",
       "      <td>0.06</td>\n",
       "      <td>0.00</td>\n",
       "      <td>0.05</td>\n",
       "      <td>0.02</td>\n",
       "    </tr>\n",
       "    <tr>\n",
       "      <th>1</th>\n",
       "      <td>1</td>\n",
       "      <td>0.14</td>\n",
       "      <td>0.00</td>\n",
       "      <td>0.08</td>\n",
       "      <td>0.03</td>\n",
       "    </tr>\n",
       "    <tr>\n",
       "      <th>2</th>\n",
       "      <td>2</td>\n",
       "      <td>0.14</td>\n",
       "      <td>0.00</td>\n",
       "      <td>0.22</td>\n",
       "      <td>0.16</td>\n",
       "    </tr>\n",
       "  </tbody>\n",
       "</table>\n",
       "</div>"
      ],
      "text/plain": [
       "   size_cluster  centroid_calculatedfinishedsquarefeet       centroid_acres  \\\n",
       "0             0                                   0.06                 0.00   \n",
       "1             1                                   0.14                 0.00   \n",
       "2             2                                   0.14                 0.00   \n",
       "\n",
       "   centroid_structure_dollar_per_sqft  centroid_land_dollar_per_sqft  \n",
       "0                                0.05                           0.02  \n",
       "1                                0.08                           0.03  \n",
       "2                                0.22                           0.16  "
      ]
     },
     "execution_count": 23,
     "metadata": {},
     "output_type": "execute_result"
    }
   ],
   "source": [
    "centroids"
   ]
  },
  {
   "cell_type": "markdown",
   "metadata": {},
   "source": [
    "#### 2c. Append cluster id onto X_train & X_train_scaled, then join with the centroids dataframe."
   ]
  },
  {
   "cell_type": "code",
   "execution_count": 24,
   "metadata": {},
   "outputs": [],
   "source": [
    "# concatenate cluster id on LA_X_Train\n",
    "X_train = pd.concat([X_train, train_clusters], axis=1)"
   ]
  },
  {
   "cell_type": "code",
   "execution_count": 25,
   "metadata": {},
   "outputs": [
    {
     "data": {
      "text/html": [
       "<div>\n",
       "<style scoped>\n",
       "    .dataframe tbody tr th:only-of-type {\n",
       "        vertical-align: middle;\n",
       "    }\n",
       "\n",
       "    .dataframe tbody tr th {\n",
       "        vertical-align: top;\n",
       "    }\n",
       "\n",
       "    .dataframe thead th {\n",
       "        text-align: right;\n",
       "    }\n",
       "</style>\n",
       "<table border=\"1\" class=\"dataframe\">\n",
       "  <thead>\n",
       "    <tr style=\"text-align: right;\">\n",
       "      <th></th>\n",
       "      <th>bathroomcnt</th>\n",
       "      <th>calculatedfinishedsquarefeet</th>\n",
       "      <th>latitude</th>\n",
       "      <th>longitude</th>\n",
       "      <th>LA</th>\n",
       "      <th>Orange</th>\n",
       "      <th>Ventura</th>\n",
       "      <th>age</th>\n",
       "      <th>taxrate</th>\n",
       "      <th>acres</th>\n",
       "      <th>structure_dollar_per_sqft</th>\n",
       "      <th>land_dollar_per_sqft</th>\n",
       "      <th>bed_bath_ratio</th>\n",
       "      <th>room_cluster</th>\n",
       "      <th>centroid_bathroomcnt</th>\n",
       "      <th>centroid_bed_bath_ratio</th>\n",
       "      <th>centroid_calculatedfinishedsquarefeet</th>\n",
       "      <th>size_cluster</th>\n",
       "    </tr>\n",
       "  </thead>\n",
       "  <tbody>\n",
       "    <tr>\n",
       "      <th>50028</th>\n",
       "      <td>3.00</td>\n",
       "      <td>2,313.00</td>\n",
       "      <td>34.16</td>\n",
       "      <td>-118.42</td>\n",
       "      <td>1</td>\n",
       "      <td>0</td>\n",
       "      <td>0</td>\n",
       "      <td>55.00</td>\n",
       "      <td>0.01</td>\n",
       "      <td>0.16</td>\n",
       "      <td>151.44</td>\n",
       "      <td>72.58</td>\n",
       "      <td>1.33</td>\n",
       "      <td>3</td>\n",
       "      <td>0.21</td>\n",
       "      <td>0.27</td>\n",
       "      <td>0.08</td>\n",
       "      <td>1</td>\n",
       "    </tr>\n",
       "    <tr>\n",
       "      <th>16721</th>\n",
       "      <td>1.00</td>\n",
       "      <td>1,232.00</td>\n",
       "      <td>34.23</td>\n",
       "      <td>-118.25</td>\n",
       "      <td>1</td>\n",
       "      <td>0</td>\n",
       "      <td>0</td>\n",
       "      <td>91.00</td>\n",
       "      <td>0.01</td>\n",
       "      <td>0.17</td>\n",
       "      <td>18.40</td>\n",
       "      <td>13.69</td>\n",
       "      <td>3.00</td>\n",
       "      <td>1</td>\n",
       "      <td>0.09</td>\n",
       "      <td>0.61</td>\n",
       "      <td>0.05</td>\n",
       "      <td>0</td>\n",
       "    </tr>\n",
       "    <tr>\n",
       "      <th>30822</th>\n",
       "      <td>1.00</td>\n",
       "      <td>1,213.00</td>\n",
       "      <td>34.03</td>\n",
       "      <td>-118.46</td>\n",
       "      <td>1</td>\n",
       "      <td>0</td>\n",
       "      <td>0</td>\n",
       "      <td>66.00</td>\n",
       "      <td>0.01</td>\n",
       "      <td>0.13</td>\n",
       "      <td>91.47</td>\n",
       "      <td>141.76</td>\n",
       "      <td>3.00</td>\n",
       "      <td>1</td>\n",
       "      <td>0.09</td>\n",
       "      <td>0.61</td>\n",
       "      <td>0.05</td>\n",
       "      <td>0</td>\n",
       "    </tr>\n",
       "    <tr>\n",
       "      <th>4398</th>\n",
       "      <td>2.00</td>\n",
       "      <td>1,920.00</td>\n",
       "      <td>34.02</td>\n",
       "      <td>-118.32</td>\n",
       "      <td>1</td>\n",
       "      <td>0</td>\n",
       "      <td>0</td>\n",
       "      <td>95.00</td>\n",
       "      <td>0.01</td>\n",
       "      <td>0.13</td>\n",
       "      <td>62.68</td>\n",
       "      <td>41.50</td>\n",
       "      <td>1.50</td>\n",
       "      <td>3</td>\n",
       "      <td>0.21</td>\n",
       "      <td>0.27</td>\n",
       "      <td>0.08</td>\n",
       "      <td>0</td>\n",
       "    </tr>\n",
       "    <tr>\n",
       "      <th>46912</th>\n",
       "      <td>2.00</td>\n",
       "      <td>1,268.00</td>\n",
       "      <td>33.91</td>\n",
       "      <td>-118.13</td>\n",
       "      <td>1</td>\n",
       "      <td>0</td>\n",
       "      <td>0</td>\n",
       "      <td>63.00</td>\n",
       "      <td>0.02</td>\n",
       "      <td>0.12</td>\n",
       "      <td>28.23</td>\n",
       "      <td>5.11</td>\n",
       "      <td>1.50</td>\n",
       "      <td>3</td>\n",
       "      <td>0.21</td>\n",
       "      <td>0.27</td>\n",
       "      <td>0.08</td>\n",
       "      <td>0</td>\n",
       "    </tr>\n",
       "  </tbody>\n",
       "</table>\n",
       "</div>"
      ],
      "text/plain": [
       "               bathroomcnt  calculatedfinishedsquarefeet             latitude  \\\n",
       "50028                 3.00                      2,313.00                34.16   \n",
       "16721                 1.00                      1,232.00                34.23   \n",
       "30822                 1.00                      1,213.00                34.03   \n",
       "4398                  2.00                      1,920.00                34.02   \n",
       "46912                 2.00                      1,268.00                33.91   \n",
       "\n",
       "                 longitude  LA  Orange  Ventura                  age  \\\n",
       "50028              -118.42   1       0        0                55.00   \n",
       "16721              -118.25   1       0        0                91.00   \n",
       "30822              -118.46   1       0        0                66.00   \n",
       "4398               -118.32   1       0        0                95.00   \n",
       "46912              -118.13   1       0        0                63.00   \n",
       "\n",
       "                   taxrate                acres  structure_dollar_per_sqft  \\\n",
       "50028                 0.01                 0.16                     151.44   \n",
       "16721                 0.01                 0.17                      18.40   \n",
       "30822                 0.01                 0.13                      91.47   \n",
       "4398                  0.01                 0.13                      62.68   \n",
       "46912                 0.02                 0.12                      28.23   \n",
       "\n",
       "       land_dollar_per_sqft       bed_bath_ratio  room_cluster  \\\n",
       "50028                 72.58                 1.33             3   \n",
       "16721                 13.69                 3.00             1   \n",
       "30822                141.76                 3.00             1   \n",
       "4398                  41.50                 1.50             3   \n",
       "46912                  5.11                 1.50             3   \n",
       "\n",
       "       centroid_bathroomcnt  centroid_bed_bath_ratio  \\\n",
       "50028                  0.21                     0.27   \n",
       "16721                  0.09                     0.61   \n",
       "30822                  0.09                     0.61   \n",
       "4398                   0.21                     0.27   \n",
       "46912                  0.21                     0.27   \n",
       "\n",
       "       centroid_calculatedfinishedsquarefeet  size_cluster  \n",
       "50028                                   0.08             1  \n",
       "16721                                   0.05             0  \n",
       "30822                                   0.05             0  \n",
       "4398                                    0.08             0  \n",
       "46912                                   0.08             0  "
      ]
     },
     "execution_count": 25,
     "metadata": {},
     "output_type": "execute_result"
    }
   ],
   "source": [
    "X_train.head()"
   ]
  },
  {
   "cell_type": "code",
   "execution_count": 27,
   "metadata": {},
   "outputs": [],
   "source": [
    "# join on clusterid to get centroids\n",
    "X_train = X_train.merge(centroids, how='left', on='size_cluster').set_index(X_train.index)"
   ]
  },
  {
   "cell_type": "code",
   "execution_count": 28,
   "metadata": {},
   "outputs": [
    {
     "data": {
      "text/html": [
       "<div>\n",
       "<style scoped>\n",
       "    .dataframe tbody tr th:only-of-type {\n",
       "        vertical-align: middle;\n",
       "    }\n",
       "\n",
       "    .dataframe tbody tr th {\n",
       "        vertical-align: top;\n",
       "    }\n",
       "\n",
       "    .dataframe thead th {\n",
       "        text-align: right;\n",
       "    }\n",
       "</style>\n",
       "<table border=\"1\" class=\"dataframe\">\n",
       "  <thead>\n",
       "    <tr style=\"text-align: right;\">\n",
       "      <th></th>\n",
       "      <th>bathroomcnt</th>\n",
       "      <th>calculatedfinishedsquarefeet</th>\n",
       "      <th>latitude</th>\n",
       "      <th>longitude</th>\n",
       "      <th>LA</th>\n",
       "      <th>Orange</th>\n",
       "      <th>Ventura</th>\n",
       "      <th>age</th>\n",
       "      <th>taxrate</th>\n",
       "      <th>acres</th>\n",
       "      <th>...</th>\n",
       "      <th>bed_bath_ratio</th>\n",
       "      <th>room_cluster</th>\n",
       "      <th>centroid_bathroomcnt</th>\n",
       "      <th>centroid_bed_bath_ratio</th>\n",
       "      <th>centroid_calculatedfinishedsquarefeet_x</th>\n",
       "      <th>size_cluster</th>\n",
       "      <th>centroid_calculatedfinishedsquarefeet_y</th>\n",
       "      <th>centroid_acres</th>\n",
       "      <th>centroid_structure_dollar_per_sqft</th>\n",
       "      <th>centroid_land_dollar_per_sqft</th>\n",
       "    </tr>\n",
       "  </thead>\n",
       "  <tbody>\n",
       "    <tr>\n",
       "      <th>50028</th>\n",
       "      <td>3.00</td>\n",
       "      <td>2,313.00</td>\n",
       "      <td>34.16</td>\n",
       "      <td>-118.42</td>\n",
       "      <td>1</td>\n",
       "      <td>0</td>\n",
       "      <td>0</td>\n",
       "      <td>55.00</td>\n",
       "      <td>0.01</td>\n",
       "      <td>0.16</td>\n",
       "      <td>...</td>\n",
       "      <td>1.33</td>\n",
       "      <td>3</td>\n",
       "      <td>0.21</td>\n",
       "      <td>0.27</td>\n",
       "      <td>0.08</td>\n",
       "      <td>1</td>\n",
       "      <td>0.14</td>\n",
       "      <td>0.00</td>\n",
       "      <td>0.08</td>\n",
       "      <td>0.03</td>\n",
       "    </tr>\n",
       "    <tr>\n",
       "      <th>16721</th>\n",
       "      <td>1.00</td>\n",
       "      <td>1,232.00</td>\n",
       "      <td>34.23</td>\n",
       "      <td>-118.25</td>\n",
       "      <td>1</td>\n",
       "      <td>0</td>\n",
       "      <td>0</td>\n",
       "      <td>91.00</td>\n",
       "      <td>0.01</td>\n",
       "      <td>0.17</td>\n",
       "      <td>...</td>\n",
       "      <td>3.00</td>\n",
       "      <td>1</td>\n",
       "      <td>0.09</td>\n",
       "      <td>0.61</td>\n",
       "      <td>0.05</td>\n",
       "      <td>0</td>\n",
       "      <td>0.06</td>\n",
       "      <td>0.00</td>\n",
       "      <td>0.05</td>\n",
       "      <td>0.02</td>\n",
       "    </tr>\n",
       "    <tr>\n",
       "      <th>30822</th>\n",
       "      <td>1.00</td>\n",
       "      <td>1,213.00</td>\n",
       "      <td>34.03</td>\n",
       "      <td>-118.46</td>\n",
       "      <td>1</td>\n",
       "      <td>0</td>\n",
       "      <td>0</td>\n",
       "      <td>66.00</td>\n",
       "      <td>0.01</td>\n",
       "      <td>0.13</td>\n",
       "      <td>...</td>\n",
       "      <td>3.00</td>\n",
       "      <td>1</td>\n",
       "      <td>0.09</td>\n",
       "      <td>0.61</td>\n",
       "      <td>0.05</td>\n",
       "      <td>0</td>\n",
       "      <td>0.06</td>\n",
       "      <td>0.00</td>\n",
       "      <td>0.05</td>\n",
       "      <td>0.02</td>\n",
       "    </tr>\n",
       "    <tr>\n",
       "      <th>4398</th>\n",
       "      <td>2.00</td>\n",
       "      <td>1,920.00</td>\n",
       "      <td>34.02</td>\n",
       "      <td>-118.32</td>\n",
       "      <td>1</td>\n",
       "      <td>0</td>\n",
       "      <td>0</td>\n",
       "      <td>95.00</td>\n",
       "      <td>0.01</td>\n",
       "      <td>0.13</td>\n",
       "      <td>...</td>\n",
       "      <td>1.50</td>\n",
       "      <td>3</td>\n",
       "      <td>0.21</td>\n",
       "      <td>0.27</td>\n",
       "      <td>0.08</td>\n",
       "      <td>0</td>\n",
       "      <td>0.06</td>\n",
       "      <td>0.00</td>\n",
       "      <td>0.05</td>\n",
       "      <td>0.02</td>\n",
       "    </tr>\n",
       "    <tr>\n",
       "      <th>46912</th>\n",
       "      <td>2.00</td>\n",
       "      <td>1,268.00</td>\n",
       "      <td>33.91</td>\n",
       "      <td>-118.13</td>\n",
       "      <td>1</td>\n",
       "      <td>0</td>\n",
       "      <td>0</td>\n",
       "      <td>63.00</td>\n",
       "      <td>0.02</td>\n",
       "      <td>0.12</td>\n",
       "      <td>...</td>\n",
       "      <td>1.50</td>\n",
       "      <td>3</td>\n",
       "      <td>0.21</td>\n",
       "      <td>0.27</td>\n",
       "      <td>0.08</td>\n",
       "      <td>0</td>\n",
       "      <td>0.06</td>\n",
       "      <td>0.00</td>\n",
       "      <td>0.05</td>\n",
       "      <td>0.02</td>\n",
       "    </tr>\n",
       "  </tbody>\n",
       "</table>\n",
       "<p>5 rows × 22 columns</p>\n",
       "</div>"
      ],
      "text/plain": [
       "               bathroomcnt  calculatedfinishedsquarefeet             latitude  \\\n",
       "50028                 3.00                      2,313.00                34.16   \n",
       "16721                 1.00                      1,232.00                34.23   \n",
       "30822                 1.00                      1,213.00                34.03   \n",
       "4398                  2.00                      1,920.00                34.02   \n",
       "46912                 2.00                      1,268.00                33.91   \n",
       "\n",
       "                 longitude  LA  Orange  Ventura                  age  \\\n",
       "50028              -118.42   1       0        0                55.00   \n",
       "16721              -118.25   1       0        0                91.00   \n",
       "30822              -118.46   1       0        0                66.00   \n",
       "4398               -118.32   1       0        0                95.00   \n",
       "46912              -118.13   1       0        0                63.00   \n",
       "\n",
       "                   taxrate                acres  ...       bed_bath_ratio  \\\n",
       "50028                 0.01                 0.16  ...                 1.33   \n",
       "16721                 0.01                 0.17  ...                 3.00   \n",
       "30822                 0.01                 0.13  ...                 3.00   \n",
       "4398                  0.01                 0.13  ...                 1.50   \n",
       "46912                 0.02                 0.12  ...                 1.50   \n",
       "\n",
       "       room_cluster  centroid_bathroomcnt  centroid_bed_bath_ratio  \\\n",
       "50028             3                  0.21                     0.27   \n",
       "16721             1                  0.09                     0.61   \n",
       "30822             1                  0.09                     0.61   \n",
       "4398              3                  0.21                     0.27   \n",
       "46912             3                  0.21                     0.27   \n",
       "\n",
       "       centroid_calculatedfinishedsquarefeet_x  size_cluster  \\\n",
       "50028                                     0.08             1   \n",
       "16721                                     0.05             0   \n",
       "30822                                     0.05             0   \n",
       "4398                                      0.08             0   \n",
       "46912                                     0.08             0   \n",
       "\n",
       "       centroid_calculatedfinishedsquarefeet_y       centroid_acres  \\\n",
       "50028                                     0.14                 0.00   \n",
       "16721                                     0.06                 0.00   \n",
       "30822                                     0.06                 0.00   \n",
       "4398                                      0.06                 0.00   \n",
       "46912                                     0.06                 0.00   \n",
       "\n",
       "       centroid_structure_dollar_per_sqft  centroid_land_dollar_per_sqft  \n",
       "50028                                0.08                           0.03  \n",
       "16721                                0.05                           0.02  \n",
       "30822                                0.05                           0.02  \n",
       "4398                                 0.05                           0.02  \n",
       "46912                                0.05                           0.02  \n",
       "\n",
       "[5 rows x 22 columns]"
      ]
     },
     "execution_count": 28,
     "metadata": {},
     "output_type": "execute_result"
    }
   ],
   "source": [
    "X_train.head()"
   ]
  },
  {
   "cell_type": "markdown",
   "metadata": {},
   "source": [
    "#### 2d. Visualize room_clusters and centroids "
   ]
  },
  {
   "cell_type": "code",
   "execution_count": 29,
   "metadata": {},
   "outputs": [
    {
     "data": {
      "image/png": "[encoded data removed]",
      "text/plain": [
       "<Figure size 432x288 with 1 Axes>"
      ]
     },
     "metadata": {
      "needs_background": "light"
     },
     "output_type": "display_data"
    }
   ],
   "source": [
    "plt.scatter(X_train.calculatedfinishedsquarefeet, y_train.logerror, c=X_train.size_cluster)\n",
    "plt.show()"
   ]
  },
  {
   "cell_type": "code",
   "execution_count": 30,
   "metadata": {},
   "outputs": [
    {
     "data": {
      "image/png": "[encoded data removed]",
      "text/plain": [
       "<Figure size 432x288 with 1 Axes>"
      ]
     },
     "metadata": {
      "needs_background": "light"
     },
     "output_type": "display_data"
    }
   ],
   "source": [
    "sns.boxplot(X_train.size_cluster, y_train.logerror)\n",
    "plt.ylim(-.05,.05)\n",
    "plt.show()"
   ]
  },
  {
   "cell_type": "code",
   "execution_count": 33,
   "metadata": {},
   "outputs": [
    {
     "data": {
      "image/png": "[encoded data removed]",
      "text/plain": [
       "<Figure size 432x288 with 1 Axes>"
      ]
     },
     "metadata": {
      "needs_background": "light"
     },
     "output_type": "display_data"
    }
   ],
   "source": [
    "plt.scatter(X_train.calculatedfinishedsquarefeet, X_train.structure_dollar_per_sqft, c=X_train.size_cluster)\n",
    "plt.show()"
   ]
  },
  {
   "cell_type": "code",
   "execution_count": 36,
   "metadata": {},
   "outputs": [
    {
     "data": {
      "image/png": "[encoded data removed]",
      "text/plain": [
       "<Figure size 814.5x720 with 4 Axes>"
      ]
     },
     "metadata": {
      "needs_background": "light"
     },
     "output_type": "display_data"
    }
   ],
   "source": [
    "# visualize w/ hue=\"species\" style=\"cluster\"\n",
    "sns.relplot(x=\"calculatedfinishedsquarefeet\", y=\"structure_dollar_per_sqft\", hue=\"size_cluster\", col=\"room_cluster\", col_wrap=2, data=X_train)\n",
    "plt.show()"
   ]
  },
  {
   "cell_type": "code",
   "execution_count": null,
   "metadata": {},
   "outputs": [],
   "source": []
  }
 ],
 "metadata": {
  "kernelspec": {
   "display_name": "Python 3",
   "language": "python",
   "name": "python3"
  },
  "language_info": {
   "codemirror_mode": {
    "name": "ipython",
    "version": 3
   },
   "file_extension": ".py",
   "mimetype": "text/x-python",
   "name": "python",
   "nbconvert_exporter": "python",
   "pygments_lexer": "ipython3",
   "version": "3.8.3"
  }
 },
 "nbformat": 4,
 "nbformat_minor": 4
}
